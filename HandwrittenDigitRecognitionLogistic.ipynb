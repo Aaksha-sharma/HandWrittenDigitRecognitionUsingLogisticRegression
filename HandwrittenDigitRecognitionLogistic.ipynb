{
  "nbformat": 4,
  "nbformat_minor": 0,
  "metadata": {
    "colab": {
      "name": "HandwrittenDigitRecognitionLogistic.ipynb",
      "provenance": []
    },
    "kernelspec": {
      "name": "python3",
      "display_name": "Python 3"
    },
    "language_info": {
      "name": "python"
    }
  },
  "cells": [
    {
      "cell_type": "code",
      "metadata": {
        "id": "VTgYh6KoU6hX"
      },
      "source": [
        "%matplotlib inline\n",
        "import pandas as pd\n",
        "import numpy as np\n",
        "from sklearn.linear_model import LogisticRegression\n",
        "import matplotlib.pyplot as plt"
      ],
      "execution_count": null,
      "outputs": []
    },
    {
      "cell_type": "code",
      "metadata": {
        "id": "mLrpN5G_s-4L"
      },
      "source": [
        "from sklearn.datasets import load_digits\n",
        "digits = load_digits()"
      ],
      "execution_count": 9,
      "outputs": []
    },
    {
      "cell_type": "code",
      "metadata": {
        "colab": {
          "base_uri": "https://localhost:8080/"
        },
        "id": "mBUqRTy6wW-Q",
        "outputId": "9c0fed88-4f7a-400d-ac0c-109612383b74"
      },
      "source": [
        "dir(digits)"
      ],
      "execution_count": 11,
      "outputs": [
        {
          "output_type": "execute_result",
          "data": {
            "text/plain": [
              "['DESCR', 'data', 'images', 'target', 'target_names']"
            ]
          },
          "metadata": {
            "tags": []
          },
          "execution_count": 11
        }
      ]
    },
    {
      "cell_type": "code",
      "metadata": {
        "colab": {
          "base_uri": "https://localhost:8080/"
        },
        "id": "l0Rz_nXkwfz5",
        "outputId": "9e0df244-4f55-43cb-c66f-b3a4af587508"
      },
      "source": [
        "digits.images"
      ],
      "execution_count": 12,
      "outputs": [
        {
          "output_type": "execute_result",
          "data": {
            "text/plain": [
              "array([[[ 0.,  0.,  5., ...,  1.,  0.,  0.],\n",
              "        [ 0.,  0., 13., ..., 15.,  5.,  0.],\n",
              "        [ 0.,  3., 15., ..., 11.,  8.,  0.],\n",
              "        ...,\n",
              "        [ 0.,  4., 11., ..., 12.,  7.,  0.],\n",
              "        [ 0.,  2., 14., ..., 12.,  0.,  0.],\n",
              "        [ 0.,  0.,  6., ...,  0.,  0.,  0.]],\n",
              "\n",
              "       [[ 0.,  0.,  0., ...,  5.,  0.,  0.],\n",
              "        [ 0.,  0.,  0., ...,  9.,  0.,  0.],\n",
              "        [ 0.,  0.,  3., ...,  6.,  0.,  0.],\n",
              "        ...,\n",
              "        [ 0.,  0.,  1., ...,  6.,  0.,  0.],\n",
              "        [ 0.,  0.,  1., ...,  6.,  0.,  0.],\n",
              "        [ 0.,  0.,  0., ..., 10.,  0.,  0.]],\n",
              "\n",
              "       [[ 0.,  0.,  0., ..., 12.,  0.,  0.],\n",
              "        [ 0.,  0.,  3., ..., 14.,  0.,  0.],\n",
              "        [ 0.,  0.,  8., ..., 16.,  0.,  0.],\n",
              "        ...,\n",
              "        [ 0.,  9., 16., ...,  0.,  0.,  0.],\n",
              "        [ 0.,  3., 13., ..., 11.,  5.,  0.],\n",
              "        [ 0.,  0.,  0., ..., 16.,  9.,  0.]],\n",
              "\n",
              "       ...,\n",
              "\n",
              "       [[ 0.,  0.,  1., ...,  1.,  0.,  0.],\n",
              "        [ 0.,  0., 13., ...,  2.,  1.,  0.],\n",
              "        [ 0.,  0., 16., ..., 16.,  5.,  0.],\n",
              "        ...,\n",
              "        [ 0.,  0., 16., ..., 15.,  0.,  0.],\n",
              "        [ 0.,  0., 15., ..., 16.,  0.,  0.],\n",
              "        [ 0.,  0.,  2., ...,  6.,  0.,  0.]],\n",
              "\n",
              "       [[ 0.,  0.,  2., ...,  0.,  0.,  0.],\n",
              "        [ 0.,  0., 14., ..., 15.,  1.,  0.],\n",
              "        [ 0.,  4., 16., ..., 16.,  7.,  0.],\n",
              "        ...,\n",
              "        [ 0.,  0.,  0., ..., 16.,  2.,  0.],\n",
              "        [ 0.,  0.,  4., ..., 16.,  2.,  0.],\n",
              "        [ 0.,  0.,  5., ..., 12.,  0.,  0.]],\n",
              "\n",
              "       [[ 0.,  0., 10., ...,  1.,  0.,  0.],\n",
              "        [ 0.,  2., 16., ...,  1.,  0.,  0.],\n",
              "        [ 0.,  0., 15., ..., 15.,  0.,  0.],\n",
              "        ...,\n",
              "        [ 0.,  4., 16., ..., 16.,  6.,  0.],\n",
              "        [ 0.,  8., 16., ..., 16.,  8.,  0.],\n",
              "        [ 0.,  1.,  8., ..., 12.,  1.,  0.]]])"
            ]
          },
          "metadata": {
            "tags": []
          },
          "execution_count": 12
        }
      ]
    },
    {
      "cell_type": "code",
      "metadata": {
        "colab": {
          "base_uri": "https://localhost:8080/",
          "height": 275
        },
        "id": "ldgRJRkxwgAx",
        "outputId": "0f1ba230-ae7e-457f-9fa4-0f021d008a76"
      },
      "source": [
        "plt.matshow(digits.images[0])\n",
        "plt.gray()"
      ],
      "execution_count": 14,
      "outputs": [
        {
          "output_type": "display_data",
          "data": {
            "image/png": "[encoded data removed]",
            "text/plain": [
              "<Figure size 288x288 with 1 Axes>"
            ]
          },
          "metadata": {
            "tags": [],
            "needs_background": "light"
          }
        }
      ]
    },
    {
      "cell_type": "code",
      "metadata": {
        "colab": {
          "base_uri": "https://localhost:8080/",
          "height": 1000
        },
        "id": "UCUMRNjKw4u2",
        "outputId": "0670bd13-6db3-4751-fa58-6ad7d476ba2f"
      },
      "source": [
        "for i in range(5):\n",
        "  plt.matshow(digits.images[i])\n",
        "  plt.gray()"
      ],
      "execution_count": 17,
      "outputs": [
        {
          "output_type": "display_data",
          "data": {
            "image/png": "[encoded data removed]",
            "text/plain": [
              "<Figure size 288x288 with 1 Axes>"
            ]
          },
          "metadata": {
            "tags": [],
            "needs_background": "light"
          }
        },
        {
          "output_type": "display_data",
          "data": {
            "image/png": "[encoded data removed]",
            "text/plain": [
              "<Figure size 288x288 with 1 Axes>"
            ]
          },
          "metadata": {
            "tags": [],
            "needs_background": "light"
          }
        },
        {
          "output_type": "display_data",
          "data": {
            "image/png": "[encoded data removed]",
            "text/plain": [
              "<Figure size 288x288 with 1 Axes>"
            ]
          },
          "metadata": {
            "tags": [],
            "needs_background": "light"
          }
        },
        {
          "output_type": "display_data",
          "data": {
            "image/png": "[encoded data removed]",
            "text/plain": [
              "<Figure size 288x288 with 1 Axes>"
            ]
          },
          "metadata": {
            "tags": [],
            "needs_background": "light"
          }
        },
        {
          "output_type": "display_data",
          "data": {
            "image/png": "[encoded data removed]",
            "text/plain": [
              "<Figure size 288x288 with 1 Axes>"
            ]
          },
          "metadata": {
            "tags": [],
            "needs_background": "light"
          }
        }
      ]
    },
    {
      "cell_type": "code",
      "metadata": {
        "colab": {
          "base_uri": "https://localhost:8080/"
        },
        "id": "YhFgUpvcxNwo",
        "outputId": "b0055d71-9c67-44e7-d59a-b0ed628d6d94"
      },
      "source": [
        "digits.target[:5]"
      ],
      "execution_count": 21,
      "outputs": [
        {
          "output_type": "execute_result",
          "data": {
            "text/plain": [
              "array([0, 1, 2, 3, 4])"
            ]
          },
          "metadata": {
            "tags": []
          },
          "execution_count": 21
        }
      ]
    },
    {
      "cell_type": "code",
      "metadata": {
        "id": "-gv32fFy9OQ1"
      },
      "source": [
        "model = LogisticRegression()"
      ],
      "execution_count": 19,
      "outputs": []
    },
    {
      "cell_type": "code",
      "metadata": {
        "id": "nOaymdLD9Tn6"
      },
      "source": [
        "from sklearn.model_selection import train_test_split\n",
        "x_train,x_test,y_train,y_test = train_test_split(digits.data,digits.target,test_size=0.3)\n"
      ],
      "execution_count": 30,
      "outputs": []
    },
    {
      "cell_type": "code",
      "metadata": {
        "colab": {
          "base_uri": "https://localhost:8080/"
        },
        "id": "Wm9-DmndDK20",
        "outputId": "872216ae-f12c-465b-8eea-b382b92ea1fd"
      },
      "source": [
        "model.fit(x_train,y_train)"
      ],
      "execution_count": 31,
      "outputs": [
        {
          "output_type": "stream",
          "text": [
            "/usr/local/lib/python3.7/dist-packages/sklearn/linear_model/_logistic.py:940: ConvergenceWarning: lbfgs failed to converge (status=1):\n",
            "STOP: TOTAL NO. of ITERATIONS REACHED LIMIT.\n",
            "\n",
            "Increase the number of iterations (max_iter) or scale the data as shown in:\n",
            "    https://scikit-learn.org/stable/modules/preprocessing.html\n",
            "Please also refer to the documentation for alternative solver options:\n",
            "    https://scikit-learn.org/stable/modules/linear_model.html#logistic-regression\n",
            "  extra_warning_msg=_LOGISTIC_SOLVER_CONVERGENCE_MSG)\n"
          ],
          "name": "stderr"
        },
        {
          "output_type": "execute_result",
          "data": {
            "text/plain": [
              "LogisticRegression(C=1.0, class_weight=None, dual=False, fit_intercept=True,\n",
              "                   intercept_scaling=1, l1_ratio=None, max_iter=100,\n",
              "                   multi_class='auto', n_jobs=None, penalty='l2',\n",
              "                   random_state=None, solver='lbfgs', tol=0.0001, verbose=0,\n",
              "                   warm_start=False)"
            ]
          },
          "metadata": {
            "tags": []
          },
          "execution_count": 31
        }
      ]
    },
    {
      "cell_type": "code",
      "metadata": {
        "colab": {
          "base_uri": "https://localhost:8080/"
        },
        "id": "zFmbAKB8DeRG",
        "outputId": "6314d373-5d14-4943-839e-89f3d2531bca"
      },
      "source": [
        "model.predict(x_test)           #output predicted by model"
      ],
      "execution_count": 32,
      "outputs": [
        {
          "output_type": "execute_result",
          "data": {
            "text/plain": [
              "array([5, 2, 2, 8, 7, 8, 0, 5, 3, 9, 3, 3, 9, 2, 0, 9, 7, 9, 5, 3, 2, 7,\n",
              "       5, 2, 5, 3, 4, 7, 2, 2, 6, 6, 4, 3, 0, 4, 6, 4, 3, 1, 1, 1, 0, 2,\n",
              "       0, 4, 1, 7, 8, 1, 5, 6, 3, 5, 1, 5, 7, 9, 7, 2, 5, 1, 8, 5, 7, 6,\n",
              "       1, 9, 7, 5, 5, 7, 5, 8, 4, 4, 6, 2, 5, 2, 1, 2, 1, 1, 7, 4, 4, 4,\n",
              "       8, 5, 3, 8, 9, 8, 2, 1, 1, 5, 4, 1, 9, 3, 9, 4, 6, 5, 1, 7, 6, 9,\n",
              "       2, 5, 1, 0, 3, 4, 2, 0, 9, 1, 4, 4, 0, 2, 7, 1, 8, 8, 1, 5, 7, 2,\n",
              "       4, 2, 7, 5, 4, 5, 5, 6, 0, 8, 4, 2, 2, 9, 9, 4, 9, 5, 1, 6, 7, 0,\n",
              "       8, 2, 2, 2, 3, 2, 0, 0, 8, 9, 9, 0, 2, 7, 2, 3, 2, 2, 9, 2, 2, 4,\n",
              "       1, 6, 1, 7, 0, 5, 1, 5, 0, 9, 5, 3, 6, 4, 9, 4, 1, 0, 6, 4, 3, 4,\n",
              "       9, 3, 3, 6, 1, 2, 1, 1, 0, 1, 5, 2, 5, 4, 0, 9, 5, 1, 5, 1, 4, 3,\n",
              "       1, 3, 9, 4, 9, 3, 3, 6, 3, 9, 1, 2, 3, 4, 2, 8, 4, 3, 6, 7, 2, 4,\n",
              "       3, 8, 4, 8, 5, 6, 2, 2, 1, 5, 4, 9, 8, 2, 0, 4, 6, 1, 4, 6, 8, 3,\n",
              "       2, 4, 9, 1, 1, 5, 7, 1, 8, 6, 7, 3, 3, 3, 2, 8, 1, 2, 2, 0, 7, 4,\n",
              "       2, 2, 2, 9, 4, 9, 8, 1, 4, 7, 9, 4, 2, 9, 3, 3, 7, 1, 7, 2, 6, 5,\n",
              "       9, 1, 6, 2, 6, 3, 2, 5, 2, 8, 6, 4, 0, 8, 6, 5, 7, 1, 8, 6, 1, 3,\n",
              "       7, 3, 6, 6, 0, 1, 1, 5, 7, 1, 0, 6, 4, 7, 3, 9, 5, 7, 7, 7, 2, 3,\n",
              "       9, 5, 7, 9, 7, 5, 0, 0, 4, 1, 4, 3, 1, 1, 6, 0, 6, 2, 7, 1, 9, 1,\n",
              "       0, 8, 3, 7, 4, 9, 8, 0, 0, 6, 0, 3, 3, 8, 7, 5, 1, 5, 4, 7, 6, 3,\n",
              "       1, 6, 1, 4, 4, 9, 6, 7, 2, 4, 9, 4, 5, 0, 7, 8, 8, 2, 1, 1, 7, 9,\n",
              "       7, 3, 4, 2, 3, 1, 8, 6, 5, 7, 3, 4, 6, 3, 9, 6, 5, 1, 4, 7, 7, 3,\n",
              "       0, 4, 9, 3, 7, 0, 4, 7, 3, 0, 1, 0, 3, 4, 0, 2, 0, 2, 9, 1, 3, 8,\n",
              "       9, 6, 1, 4, 9, 0, 0, 6, 0, 7, 3, 5, 6, 7, 9, 6, 0, 7, 5, 1, 3, 9,\n",
              "       3, 5, 1, 1, 8, 0, 6, 4, 8, 0, 0, 9, 6, 4, 9, 4, 7, 3, 2, 4, 5, 3,\n",
              "       2, 9, 9, 0, 4, 0, 3, 4, 9, 3, 5, 4, 5, 4, 3, 0, 1, 6, 6, 2, 6, 6,\n",
              "       0, 4, 8, 3, 1, 0, 6, 3, 1, 0, 8, 7])"
            ]
          },
          "metadata": {
            "tags": []
          },
          "execution_count": 32
        }
      ]
    },
    {
      "cell_type": "code",
      "metadata": {
        "colab": {
          "base_uri": "https://localhost:8080/"
        },
        "id": "LtYoRJH5Dr55",
        "outputId": "69c04fbe-95d0-4069-e7b9-f1dde8ee8939"
      },
      "source": [
        "y_test                         #actual output "
      ],
      "execution_count": 33,
      "outputs": [
        {
          "output_type": "execute_result",
          "data": {
            "text/plain": [
              "array([5, 2, 2, 8, 7, 8, 0, 5, 3, 9, 3, 3, 9, 2, 0, 4, 7, 9, 5, 3, 2, 7,\n",
              "       5, 2, 5, 3, 4, 7, 2, 2, 6, 6, 4, 3, 0, 4, 6, 4, 3, 1, 1, 1, 0, 2,\n",
              "       0, 4, 1, 7, 8, 1, 5, 6, 3, 5, 1, 5, 7, 9, 7, 2, 5, 1, 8, 5, 7, 6,\n",
              "       1, 9, 7, 5, 5, 7, 5, 8, 4, 4, 6, 2, 5, 2, 1, 2, 1, 1, 7, 4, 4, 4,\n",
              "       8, 5, 3, 8, 9, 8, 2, 1, 1, 5, 4, 1, 9, 3, 9, 4, 6, 5, 1, 7, 6, 9,\n",
              "       2, 5, 1, 0, 3, 4, 2, 0, 9, 9, 4, 4, 0, 2, 7, 8, 8, 8, 1, 5, 7, 2,\n",
              "       4, 2, 7, 5, 4, 5, 5, 6, 0, 8, 4, 2, 2, 9, 1, 4, 9, 5, 1, 6, 7, 0,\n",
              "       8, 2, 2, 2, 3, 2, 0, 0, 8, 9, 9, 0, 2, 7, 2, 3, 2, 2, 9, 2, 2, 4,\n",
              "       1, 6, 1, 7, 0, 5, 1, 5, 0, 9, 5, 3, 6, 4, 9, 4, 1, 0, 6, 4, 3, 4,\n",
              "       9, 3, 3, 6, 1, 2, 5, 1, 0, 1, 3, 2, 5, 8, 0, 9, 5, 1, 5, 1, 4, 3,\n",
              "       1, 3, 9, 4, 9, 3, 3, 6, 3, 3, 1, 2, 3, 4, 2, 8, 4, 3, 6, 7, 2, 4,\n",
              "       3, 9, 4, 8, 5, 6, 2, 2, 1, 5, 4, 9, 8, 2, 0, 4, 6, 1, 4, 6, 8, 3,\n",
              "       2, 4, 9, 1, 1, 5, 7, 1, 8, 6, 7, 3, 3, 3, 2, 9, 8, 2, 2, 0, 7, 4,\n",
              "       2, 2, 2, 9, 4, 9, 8, 1, 4, 7, 9, 4, 2, 9, 3, 3, 7, 1, 7, 2, 6, 5,\n",
              "       9, 1, 6, 2, 6, 3, 2, 5, 2, 3, 6, 4, 0, 8, 6, 5, 7, 1, 8, 6, 1, 3,\n",
              "       7, 3, 6, 6, 0, 1, 1, 5, 4, 1, 0, 6, 4, 7, 3, 9, 5, 7, 7, 7, 2, 3,\n",
              "       9, 5, 7, 9, 7, 5, 0, 0, 4, 1, 4, 3, 1, 1, 6, 0, 6, 2, 7, 1, 9, 1,\n",
              "       0, 1, 3, 7, 4, 9, 8, 0, 0, 6, 0, 3, 3, 8, 7, 5, 1, 5, 4, 7, 6, 3,\n",
              "       1, 6, 1, 4, 4, 9, 6, 7, 2, 4, 9, 4, 5, 0, 7, 8, 8, 2, 1, 1, 7, 9,\n",
              "       7, 3, 4, 2, 3, 1, 8, 6, 5, 7, 3, 7, 6, 3, 9, 6, 5, 1, 4, 7, 7, 3,\n",
              "       0, 4, 9, 3, 7, 0, 4, 7, 3, 0, 1, 0, 3, 4, 0, 2, 0, 2, 9, 1, 3, 8,\n",
              "       9, 6, 1, 4, 9, 0, 0, 6, 0, 7, 3, 5, 6, 7, 9, 6, 0, 7, 5, 1, 3, 9,\n",
              "       3, 5, 1, 1, 8, 0, 6, 4, 8, 0, 0, 9, 6, 4, 9, 4, 7, 3, 2, 4, 5, 3,\n",
              "       2, 9, 9, 0, 5, 0, 3, 4, 9, 3, 5, 4, 5, 4, 3, 0, 1, 6, 6, 2, 6, 6,\n",
              "       0, 4, 8, 3, 1, 0, 6, 3, 1, 0, 8, 8])"
            ]
          },
          "metadata": {
            "tags": []
          },
          "execution_count": 33
        }
      ]
    },
    {
      "cell_type": "code",
      "metadata": {
        "colab": {
          "base_uri": "https://localhost:8080/"
        },
        "id": "xJL9C_E5ECPZ",
        "outputId": "9bc07a4d-8349-4a03-8ccc-b5dc407ae5f4"
      },
      "source": [
        "model.score(x_test,y_test)"
      ],
      "execution_count": 34,
      "outputs": [
        {
          "output_type": "execute_result",
          "data": {
            "text/plain": [
              "0.9685185185185186"
            ]
          },
          "metadata": {
            "tags": []
          },
          "execution_count": 34
        }
      ]
    },
    {
      "cell_type": "code",
      "metadata": {
        "id": "QtCn1VtaEiav"
      },
      "source": [
        "#confusion matrix\n",
        "y_predicted = model.predict(x_test)"
      ],
      "execution_count": 35,
      "outputs": []
    },
    {
      "cell_type": "code",
      "metadata": {
        "colab": {
          "base_uri": "https://localhost:8080/"
        },
        "id": "3ztMAQ66Erif",
        "outputId": "5c56a02f-3ad4-4620-9452-eaa9e680b153"
      },
      "source": [
        "from sklearn.metrics import confusion_matrix\n",
        "cm = confusion_matrix(y_test,y_predicted)\n",
        "cm"
      ],
      "execution_count": 36,
      "outputs": [
        {
          "output_type": "execute_result",
          "data": {
            "text/plain": [
              "array([[50,  0,  0,  0,  0,  0,  0,  0,  0,  0],\n",
              "       [ 0, 63,  0,  0,  0,  0,  0,  0,  1,  1],\n",
              "       [ 0,  0, 60,  0,  0,  0,  0,  0,  0,  0],\n",
              "       [ 0,  0,  0, 60,  0,  1,  0,  0,  1,  1],\n",
              "       [ 0,  0,  0,  0, 62,  0,  0,  1,  0,  1],\n",
              "       [ 0,  1,  0,  0,  1, 50,  0,  0,  0,  0],\n",
              "       [ 0,  0,  0,  0,  0,  0, 49,  0,  0,  0],\n",
              "       [ 0,  0,  0,  0,  1,  0,  0, 50,  0,  0],\n",
              "       [ 0,  2,  0,  0,  1,  0,  0,  1, 31,  0],\n",
              "       [ 0,  1,  0,  0,  0,  0,  0,  0,  2, 48]])"
            ]
          },
          "metadata": {
            "tags": []
          },
          "execution_count": 36
        }
      ]
    },
    {
      "cell_type": "code",
      "metadata": {
        "colab": {
          "base_uri": "https://localhost:8080/",
          "height": 459
        },
        "id": "0fTXnKsJFD4C",
        "outputId": "0f63c1f2-29bd-4f83-8831-b957d97d406b"
      },
      "source": [
        "import seaborn as sns\n",
        "plt.figure(figsize=(10,7))\n",
        "sns.heatmap(cm,annot =True)\n",
        "plt.xlabel('Predicted')\n",
        "plt.ylabel('true value')"
      ],
      "execution_count": 39,
      "outputs": [
        {
          "output_type": "execute_result",
          "data": {
            "text/plain": [
              "Text(69.0, 0.5, 'true value')"
            ]
          },
          "metadata": {
            "tags": []
          },
          "execution_count": 39
        },
        {
          "output_type": "display_data",
          "data": {
            "image/png": "[encoded data removed]",
            "text/plain": [
              "<Figure size 720x504 with 2 Axes>"
            ]
          },
          "metadata": {
            "tags": [],
            "needs_background": "light"
          }
        }
      ]
    }
  ]
}